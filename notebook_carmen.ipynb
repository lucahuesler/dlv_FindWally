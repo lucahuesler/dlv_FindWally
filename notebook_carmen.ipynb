{
  "nbformat": 4,
  "nbformat_minor": 0,
  "metadata": {
    "colab": {
      "name": "dlv_FindWally.ipynb",
      "provenance": [],
      "collapsed_sections": [],
      "toc_visible": true,
      "include_colab_link": true
    },
    "kernelspec": {
      "name": "python3",
      "display_name": "Python 3"
    },
    "accelerator": "GPU"
  },
  "cells": [
    {
      "cell_type": "markdown",
      "metadata": {
        "id": "view-in-github",
        "colab_type": "text"
      },
      "source": [
        "<a href=\"https://colab.research.google.com/github/lucahuesler/dlv_FindWally/blob/master/notebook_carmen.ipynb\" target=\"_parent\"><img src=\"https://colab.research.google.com/assets/colab-badge.svg\" alt=\"Open In Colab\"/></a>"
      ]
    },
    {
      "cell_type": "markdown",
      "metadata": {
        "id": "Yt4nCmd7eBnt",
        "colab_type": "text"
      },
      "source": [
        "# Find Wally\n"
      ]
    },
    {
      "cell_type": "markdown",
      "metadata": {
        "id": "eIN60rhA52lO",
        "colab_type": "text"
      },
      "source": [
        "## Load libraries"
      ]
    },
    {
      "cell_type": "code",
      "metadata": {
        "id": "fCBfgSJV58wT",
        "colab_type": "code",
        "outputId": "c75153c2-e2cf-4aea-a56e-86c4e36561d3",
        "colab": {
          "base_uri": "https://localhost:8080/",
          "height": 119
        }
      },
      "source": [
        "from __future__ import absolute_import, division, print_function, unicode_literals\n",
        "\n",
        "# Import TensorFlow and TensorFlow Datasets\n",
        "%tensorflow_version 1.x\n",
        "import tensorflow as tf\n",
        "tf.compat.v1.enable_eager_execution(\n",
        "    config=None, device_policy=None, execution_mode=None\n",
        ")\n",
        "\n",
        "# Shortcuts to keras if (however from tensorflow)\n",
        "from tensorflow.keras.preprocessing.image import ImageDataGenerator\n",
        "from tensorflow.keras.models import Sequential\n",
        "from tensorflow.keras.layers import Conv2D, MaxPooling2D\n",
        "from tensorflow.keras.layers import Activation, Dropout, Flatten, Dense\n",
        "from tensorflow.keras.callbacks import TensorBoard \n",
        "\n",
        "# Helper libraries\n",
        "import os\n",
        "import math\n",
        "import numpy as np\n",
        "import pandas as pd\n",
        "import matplotlib.pyplot as plt\n",
        "import matplotlib.image as mpimg\n",
        "\n",
        "print(tf.__version__)"
      ],
      "execution_count": 1,
      "outputs": [
        {
          "output_type": "stream",
          "text": [
            "`%tensorflow_version` only switches the major version: 1.x or 2.x.\n",
            "You set: `1.3`. This will be interpreted as: `1.x`.\n",
            "\n",
            "\n",
            "TensorFlow 1.x selected.\n",
            "1.15.2\n"
          ],
          "name": "stdout"
        }
      ]
    },
    {
      "cell_type": "markdown",
      "metadata": {
        "id": "rZvQ0u2CBkOr",
        "colab_type": "text"
      },
      "source": [
        "### Load data from github\n",
        "\n",
        "Probably better, so everyone can easily work with the same data."
      ]
    },
    {
      "cell_type": "code",
      "metadata": {
        "id": "bxxY8vncBI-p",
        "colab_type": "code",
        "outputId": "fc8e71a1-4469-43b5-c2e9-1f2d09a79c87",
        "colab": {
          "base_uri": "https://localhost:8080/",
          "height": 34
        }
      },
      "source": [
        "!git clone https://github.com/lucahuesler/dlv_FindWally.git"
      ],
      "execution_count": 2,
      "outputs": [
        {
          "output_type": "stream",
          "text": [
            "fatal: destination path 'dlv_FindWally' already exists and is not an empty directory.\n"
          ],
          "name": "stdout"
        }
      ]
    },
    {
      "cell_type": "markdown",
      "metadata": {
        "id": "iHTgAsThBxir",
        "colab_type": "text"
      },
      "source": [
        "Now, pathes are a bit different:"
      ]
    },
    {
      "cell_type": "code",
      "metadata": {
        "id": "uz9IvIeoBwen",
        "colab_type": "code",
        "colab": {}
      },
      "source": [
        "path_data = '/content/dlv_FindWally/data/data'\n",
        "path_train = '/content/dlv_FindWally/data/data/train'\n",
        "path_validation = '/content/dlv_FindWally/data/data/validation'\n",
        "path_annotations = '/content/dlv_FindWally/data/data/annotations'"
      ],
      "execution_count": 0,
      "outputs": []
    },
    {
      "cell_type": "markdown",
      "metadata": {
        "id": "K6kdARjF73Ys",
        "colab_type": "text"
      },
      "source": [
        "## Visual inspection of images\n",
        "\n",
        "Let's have a look at some examples of the train and validation images."
      ]
    },
    {
      "cell_type": "code",
      "metadata": {
        "id": "t3Z3bC9b72rp",
        "colab_type": "code",
        "colab": {}
      },
      "source": [
        "# Shortcut for displaying images\n",
        "def plot_img(img):\n",
        "    plt.imshow(img, cmap='gray')\n",
        "    plt.axis(\"off\")\n",
        "    plt.show()"
      ],
      "execution_count": 0,
      "outputs": []
    },
    {
      "cell_type": "code",
      "metadata": {
        "id": "z4HD3LkW8j0y",
        "colab_type": "code",
        "outputId": "3b74e3c7-6666-415f-9820-c10009161710",
        "colab": {
          "base_uri": "https://localhost:8080/",
          "height": 71
        }
      },
      "source": [
        "print(os.listdir(path_train))\n",
        "len(os.listdir(path_train))"
      ],
      "execution_count": 5,
      "outputs": [
        {
          "output_type": "stream",
          "text": [
            "['7.jpg', '15.jpg', '1.jpg', '12.jpg', '19.jpg', '22.jpg', '4.jpg', '5.jpg', '21.jpg', '9.jpg', '14.jpg', '3.jpg', '13.jpg', '2.jpg', '20.jpg', '17.jpg', '16.jpg', '8.jpg', '23.jpg', '18.jpg', '10.jpg', '11.jpg']\n"
          ],
          "name": "stdout"
        },
        {
          "output_type": "execute_result",
          "data": {
            "text/plain": [
              "22"
            ]
          },
          "metadata": {
            "tags": []
          },
          "execution_count": 5
        }
      ]
    },
    {
      "cell_type": "code",
      "metadata": {
        "id": "hOw9n62jCJVG",
        "colab_type": "code",
        "outputId": "1ff1bafc-55af-4b1c-b7e1-1fda19daecba",
        "colab": {
          "base_uri": "https://localhost:8080/",
          "height": 34
        }
      },
      "source": [
        "os.chdir(path_train)\n",
        "img = mpimg.imread('12.jpg') #mpimg is the library image of matplotlib \n",
        "np.shape(img) #1754 pixels height, 1276 height, 3 depth "
      ],
      "execution_count": 6,
      "outputs": [
        {
          "output_type": "execute_result",
          "data": {
            "text/plain": [
              "(1754, 1276, 3)"
            ]
          },
          "metadata": {
            "tags": []
          },
          "execution_count": 6
        }
      ]
    },
    {
      "cell_type": "code",
      "metadata": {
        "id": "tJcCmYYT8rh7",
        "colab_type": "code",
        "colab": {
          "base_uri": "https://localhost:8080/",
          "height": 248
        },
        "outputId": "75158826-bd3d-4ece-9027-6e4754bd385f"
      },
      "source": [
        "plot_img(img)"
      ],
      "execution_count": 7,
      "outputs": [
        {
          "output_type": "display_data",
          "data": {
            "image/png": "[encoded data removed]",
            "text/plain": [
              "<Figure size 432x288 with 1 Axes>"
            ]
          },
          "metadata": {
            "tags": [],
            "needs_background": "light"
          }
        }
      ]
    },
    {
      "cell_type": "markdown",
      "metadata": {
        "id": "lHbUrgJ4fJOF",
        "colab_type": "text"
      },
      "source": [
        "## Preprocessing"
      ]
    },
    {
      "cell_type": "code",
      "metadata": {
        "id": "it92katPd1Ug",
        "colab_type": "code",
        "colab": {
          "base_uri": "https://localhost:8080/",
          "height": 197
        },
        "outputId": "e8e0b14f-37ec-448d-e3b7-8eb2dad402ad"
      },
      "source": [
        "annotations = pd.read_csv(os.path.join(path_data, 'annotations/annotations.csv'))    \n",
        "# Annotations indicate in which region Waldo was found on each image. Each of this regions are defined by a regtangle that is defined by two points:\n",
        "# top left corner 'xmin, ymin' and bottom right corner 'xmax' and 'ymax'\n",
        "# In images the coordinates '0,0' are in the top left. \n",
        "annotations.head()"
      ],
      "execution_count": 8,
      "outputs": [
        {
          "output_type": "execute_result",
          "data": {
            "text/html": [
              "<div>\n",
              "<style scoped>\n",
              "    .dataframe tbody tr th:only-of-type {\n",
              "        vertical-align: middle;\n",
              "    }\n",
              "\n",
              "    .dataframe tbody tr th {\n",
              "        vertical-align: top;\n",
              "    }\n",
              "\n",
              "    .dataframe thead th {\n",
              "        text-align: right;\n",
              "    }\n",
              "</style>\n",
              "<table border=\"1\" class=\"dataframe\">\n",
              "  <thead>\n",
              "    <tr style=\"text-align: right;\">\n",
              "      <th></th>\n",
              "      <th>filename</th>\n",
              "      <th>width</th>\n",
              "      <th>height</th>\n",
              "      <th>class</th>\n",
              "      <th>xmin</th>\n",
              "      <th>ymin</th>\n",
              "      <th>xmax</th>\n",
              "      <th>ymax</th>\n",
              "    </tr>\n",
              "  </thead>\n",
              "  <tbody>\n",
              "    <tr>\n",
              "      <th>0</th>\n",
              "      <td>1.jpg</td>\n",
              "      <td>2048</td>\n",
              "      <td>1251</td>\n",
              "      <td>waldo</td>\n",
              "      <td>706</td>\n",
              "      <td>513</td>\n",
              "      <td>743</td>\n",
              "      <td>562</td>\n",
              "    </tr>\n",
              "    <tr>\n",
              "      <th>1</th>\n",
              "      <td>10.jpg</td>\n",
              "      <td>1600</td>\n",
              "      <td>980</td>\n",
              "      <td>waldo</td>\n",
              "      <td>715</td>\n",
              "      <td>157</td>\n",
              "      <td>733</td>\n",
              "      <td>181</td>\n",
              "    </tr>\n",
              "    <tr>\n",
              "      <th>2</th>\n",
              "      <td>11.jpg</td>\n",
              "      <td>2828</td>\n",
              "      <td>1828</td>\n",
              "      <td>waldo</td>\n",
              "      <td>460</td>\n",
              "      <td>1530</td>\n",
              "      <td>482</td>\n",
              "      <td>1557</td>\n",
              "    </tr>\n",
              "    <tr>\n",
              "      <th>3</th>\n",
              "      <td>12.jpg</td>\n",
              "      <td>1276</td>\n",
              "      <td>1754</td>\n",
              "      <td>waldo</td>\n",
              "      <td>846</td>\n",
              "      <td>517</td>\n",
              "      <td>878</td>\n",
              "      <td>563</td>\n",
              "    </tr>\n",
              "    <tr>\n",
              "      <th>4</th>\n",
              "      <td>13.jpg</td>\n",
              "      <td>1280</td>\n",
              "      <td>864</td>\n",
              "      <td>waldo</td>\n",
              "      <td>932</td>\n",
              "      <td>274</td>\n",
              "      <td>942</td>\n",
              "      <td>288</td>\n",
              "    </tr>\n",
              "  </tbody>\n",
              "</table>\n",
              "</div>"
            ],
            "text/plain": [
              "  filename  width  height  class  xmin  ymin  xmax  ymax\n",
              "0    1.jpg   2048    1251  waldo   706   513   743   562\n",
              "1   10.jpg   1600     980  waldo   715   157   733   181\n",
              "2   11.jpg   2828    1828  waldo   460  1530   482  1557\n",
              "3   12.jpg   1276    1754  waldo   846   517   878   563\n",
              "4   13.jpg   1280     864  waldo   932   274   942   288"
            ]
          },
          "metadata": {
            "tags": []
          },
          "execution_count": 8
        }
      ]
    },
    {
      "cell_type": "markdown",
      "metadata": {
        "id": "DDGCvKdwfWxV",
        "colab_type": "text"
      },
      "source": [
        "## Transfer learning\n",
        "The idea is to take the pretrained [Mask R-CNN](https://github.com/matterport/Mask_RCNN) model developed by Matterport and add a new class which detects *Wally*.\n",
        "\n",
        "A similar process for balloon's is described [here](https://github.com/matterport/Mask_RCNN/tree/master/samples/balloon).\n",
        "\n",
        "See also this [blog post](https://towardsdatascience.com/object-detection-using-mask-r-cnn-on-a-custom-dataset-4f79ab692f6d)."
      ]
    },
    {
      "cell_type": "markdown",
      "metadata": {
        "id": "bEklYjVIPZ0a",
        "colab_type": "text"
      },
      "source": [
        "### Step 1: Clone Matterport Mask R-CNN\n",
        "We first get a git clone from where we can start to build our own model."
      ]
    },
    {
      "cell_type": "code",
      "metadata": {
        "id": "Rra_0iWVPrKJ",
        "colab_type": "code",
        "outputId": "8b2af6cc-defe-4838-8696-f1006a34c1ee",
        "colab": {
          "base_uri": "https://localhost:8080/",
          "height": 34
        }
      },
      "source": [
        "# clone into top level folder of project\n",
        "os.chdir('/content/dlv_FindWally/')\n",
        "!git clone https://github.com/matterport/Mask_RCNN.git"
      ],
      "execution_count": 9,
      "outputs": [
        {
          "output_type": "stream",
          "text": [
            "fatal: destination path 'Mask_RCNN' already exists and is not an empty directory.\n"
          ],
          "name": "stdout"
        }
      ]
    },
    {
      "cell_type": "markdown",
      "metadata": {
        "id": "YtPg8NpkP0W-",
        "colab_type": "text"
      },
      "source": [
        "### Step 2: Install the Mask R-CNN Library\n",
        "\n",
        "The library can be installed directly via pip.\n",
        "\n",
        "Change directory into the Mask_RCNN directory and run the installation script.\n",
        "\n",
        "From the command line, type the following:"
      ]
    },
    {
      "cell_type": "code",
      "metadata": {
        "id": "Ksy68EOsP04T",
        "colab_type": "code",
        "colab": {}
      },
      "source": [
        "#import os\n",
        "#os.chdir('./Mask_RCNN')\n",
        "#!pip3 install -r requirements.txt\n",
        "#!python3 setup.py install "
      ],
      "execution_count": 0,
      "outputs": []
    },
    {
      "cell_type": "code",
      "metadata": {
        "id": "4f-XOP9UQS6t",
        "colab_type": "code",
        "outputId": "1923d2fd-e88d-427a-bbc2-235ad36d5eb8",
        "colab": {
          "base_uri": "https://localhost:8080/",
          "height": 187
        }
      },
      "source": [
        "# check installation\n",
        "!pip3 show mask-rcnn"
      ],
      "execution_count": 11,
      "outputs": [
        {
          "output_type": "stream",
          "text": [
            "Name: mask-rcnn\n",
            "Version: 2.1\n",
            "Summary: Mask R-CNN for object detection and instance segmentation\n",
            "Home-page: https://github.com/matterport/Mask_RCNN\n",
            "Author: Matterport\n",
            "Author-email: waleed.abdulla@gmail.com\n",
            "License: MIT\n",
            "Location: /usr/local/lib/python3.6/dist-packages/mask_rcnn-2.1-py3.6.egg\n",
            "Requires: \n",
            "Required-by: \n"
          ],
          "name": "stdout"
        }
      ]
    },
    {
      "cell_type": "markdown",
      "metadata": {
        "id": "lgNZ5fKHRv4g",
        "colab_type": "text"
      },
      "source": [
        "### Step 3: Import the required libraries\n",
        "(Some of them already loadad initially, but load them anyway)"
      ]
    },
    {
      "cell_type": "code",
      "metadata": {
        "id": "jpCwIgcORjwG",
        "colab_type": "code",
        "outputId": "abbd4f88-2b71-4569-dbcb-ad041b81ce4e",
        "colab": {
          "base_uri": "https://localhost:8080/",
          "height": 34
        }
      },
      "source": [
        "from mrcnn.config import Config\n",
        "from mrcnn import model as modellib\n",
        "from mrcnn import visualize\n",
        "import mrcnn\n",
        "from mrcnn.utils import Dataset\n",
        "from mrcnn.model import MaskRCNN\n",
        "import numpy as np\n",
        "from numpy import zeros\n",
        "from numpy import asarray\n",
        "import colorsys\n",
        "import argparse\n",
        "import imutils\n",
        "import random\n",
        "import cv2\n",
        "import os\n",
        "import time\n",
        "from matplotlib import pyplot\n",
        "from matplotlib.patches import Rectangle\n",
        "from keras.models import load_model\n",
        "%matplotlib inline\n",
        "from os import listdir\n",
        "from xml.etree import ElementTree"
      ],
      "execution_count": 12,
      "outputs": [
        {
          "output_type": "stream",
          "text": [
            "Using TensorFlow backend.\n"
          ],
          "name": "stderr"
        }
      ]
    },
    {
      "cell_type": "markdown",
      "metadata": {
        "id": "EPjmdbkSSpXP",
        "colab_type": "text"
      },
      "source": [
        "### Step 4: Create custom config class for wally"
      ]
    },
    {
      "cell_type": "code",
      "metadata": {
        "id": "1diQG4vXSof3",
        "colab_type": "code",
        "colab": {}
      },
      "source": [
        "class WallyMaskRCNNConfig(Config): # see previous cell, to create our Wally mask using the original configuration. We create this class and then finetune several parameters of config such as name, learning rate etc. We can understand Config as a template. \n",
        "    # give the configuration a recognizable name\n",
        "    NAME = \"MaskRCNN_config\"\n",
        " \n",
        "    # set the number of GPUs to use along with the number of images\n",
        "    # per GPU\n",
        "    GPU_COUNT = 1\n",
        "    IMAGES_PER_GPU = 1\n",
        " \n",
        "    # number of classes (we would normally add +1 for the background)\n",
        "     # kangaroo + BG\n",
        "    NUM_CLASSES = 1+1\n",
        "   \n",
        "    # Number of training steps per epoch\n",
        "    STEPS_PER_EPOCH = 131   # Hyperparameter\n",
        "    \n",
        "    # Learning rate\n",
        "    LEARNING_RATE=0.006   # Hyperparameter \n",
        "    \n",
        "    # Skip detections with < 90% confidence\n",
        "    DETECTION_MIN_CONFIDENCE = 0.9   # Hyperparameter\n",
        "    \n",
        "    # setting Max ground truth instances\n",
        "    MAX_GT_INSTANCES=10"
      ],
      "execution_count": 0,
      "outputs": []
    },
    {
      "cell_type": "code",
      "metadata": {
        "id": "ha2SqcTnTGMP",
        "colab_type": "code",
        "outputId": "244e237d-f29f-4c31-b718-465227f01896",
        "colab": {
          "base_uri": "https://localhost:8080/",
          "height": 904
        }
      },
      "source": [
        "config = WallyMaskRCNNConfig()\n",
        "config.display()"
      ],
      "execution_count": 14,
      "outputs": [
        {
          "output_type": "stream",
          "text": [
            "\n",
            "Configurations:\n",
            "BACKBONE                       resnet101\n",
            "BACKBONE_STRIDES               [4, 8, 16, 32, 64]\n",
            "BATCH_SIZE                     1\n",
            "BBOX_STD_DEV                   [0.1 0.1 0.2 0.2]\n",
            "COMPUTE_BACKBONE_SHAPE         None\n",
            "DETECTION_MAX_INSTANCES        100\n",
            "DETECTION_MIN_CONFIDENCE       0.9\n",
            "DETECTION_NMS_THRESHOLD        0.3\n",
            "FPN_CLASSIF_FC_LAYERS_SIZE     1024\n",
            "GPU_COUNT                      1\n",
            "GRADIENT_CLIP_NORM             5.0\n",
            "IMAGES_PER_GPU                 1\n",
            "IMAGE_CHANNEL_COUNT            3\n",
            "IMAGE_MAX_DIM                  1024\n",
            "IMAGE_META_SIZE                14\n",
            "IMAGE_MIN_DIM                  800\n",
            "IMAGE_MIN_SCALE                0\n",
            "IMAGE_RESIZE_MODE              square\n",
            "IMAGE_SHAPE                    [1024 1024    3]\n",
            "LEARNING_MOMENTUM              0.9\n",
            "LEARNING_RATE                  0.006\n",
            "LOSS_WEIGHTS                   {'rpn_class_loss': 1.0, 'rpn_bbox_loss': 1.0, 'mrcnn_class_loss': 1.0, 'mrcnn_bbox_loss': 1.0, 'mrcnn_mask_loss': 1.0}\n",
            "MASK_POOL_SIZE                 14\n",
            "MASK_SHAPE                     [28, 28]\n",
            "MAX_GT_INSTANCES               10\n",
            "MEAN_PIXEL                     [123.7 116.8 103.9]\n",
            "MINI_MASK_SHAPE                (56, 56)\n",
            "NAME                           MaskRCNN_config\n",
            "NUM_CLASSES                    2\n",
            "POOL_SIZE                      7\n",
            "POST_NMS_ROIS_INFERENCE        1000\n",
            "POST_NMS_ROIS_TRAINING         2000\n",
            "PRE_NMS_LIMIT                  6000\n",
            "ROI_POSITIVE_RATIO             0.33\n",
            "RPN_ANCHOR_RATIOS              [0.5, 1, 2]\n",
            "RPN_ANCHOR_SCALES              (32, 64, 128, 256, 512)\n",
            "RPN_ANCHOR_STRIDE              1\n",
            "RPN_BBOX_STD_DEV               [0.1 0.1 0.2 0.2]\n",
            "RPN_NMS_THRESHOLD              0.7\n",
            "RPN_TRAIN_ANCHORS_PER_IMAGE    256\n",
            "STEPS_PER_EPOCH                131\n",
            "TOP_DOWN_PYRAMID_SIZE          256\n",
            "TRAIN_BN                       False\n",
            "TRAIN_ROIS_PER_IMAGE           200\n",
            "USE_MINI_MASK                  True\n",
            "USE_RPN_ROIS                   True\n",
            "VALIDATION_STEPS               50\n",
            "WEIGHT_DECAY                   0.0001\n",
            "\n",
            "\n"
          ],
          "name": "stdout"
        }
      ]
    },
    {
      "cell_type": "markdown",
      "metadata": {
        "id": "zIpKTn15TaVU",
        "colab_type": "text"
      },
      "source": [
        "### Step 5: Build the custom wally data set class."
      ]
    },
    {
      "cell_type": "code",
      "metadata": {
        "id": "uDY1Si_CTayQ",
        "colab_type": "code",
        "colab": {}
      },
      "source": [
        "class WallyDataset(Dataset):\n",
        "    # load the dataset definitions\n",
        "    def load_dataset(self, dataset_dir, is_train=True):\n",
        "        \n",
        "        # Add classes. We have only one class to add.\n",
        "        self.add_class(\"dataset\", 1, \"wally\")\n",
        "        \n",
        "        # define data locations for images and annotations\n",
        "        if is_train==False:\n",
        "          images_dir = dataset_dir + '/validation'\n",
        "        else:\n",
        "          images_dir = dataset_dir + '/train'\n",
        "        print(images_dir)  \n",
        "        annotations_dir = dataset_dir + '/annotations'\n",
        "        \n",
        "        # Iterate through all files in the folder to \n",
        "        #add class, images and annotaions\n",
        "        for filename in listdir(images_dir):\n",
        "            \n",
        "            # extract image id\n",
        "            image_id = filename[:-4]   # remove the last four characters of the file name, here '.jpg' \n",
        "            \n",
        "            # skip bad images\n",
        "            if image_id in ['00090']:\n",
        "                continue\n",
        "            # skip all images after 150 if we are building the train set\n",
        "            if is_train and int(image_id) >= 150:\n",
        "                continue\n",
        "            # skip all images before 150 if we are building the test/val set\n",
        "            if not is_train and int(image_id) < 150:\n",
        "                continue\n",
        "            \n",
        "            # setting image file\n",
        "            img_path = images_dir + filename  # you need complete path of each image and below we add the annotation for each image. \n",
        "            \n",
        "            # setting annotations file\n",
        "            ann_path = annotations_dir + image_id + '.xml'\n",
        "            \n",
        "            # adding images and annotations to dataset\n",
        "            self.add_image('dataset', image_id=image_id, path=img_path, annotation=ann_path) # extract bounding boxes from an annotation file\n",
        "    \n",
        "    def extract_boxes(self, filename):\n",
        "        \n",
        "        # load and parse the file\n",
        "        tree = ElementTree.parse(filename) # you parse a file into a xml tree file format\n",
        "        # get the root of the document\n",
        "        root = tree.getroot()\n",
        "        # extract each bounding box\n",
        "        boxes = list()\n",
        "        for box in root.findall('.//bndbox'):\n",
        "            xmin = int(box.find('xmin').text)\n",
        "            ymin = int(box.find('ymin').text)\n",
        "            xmax = int(box.find('xmax').text)\n",
        "            ymax = int(box.find('ymax').text)\n",
        "            coors = [xmin, ymin, xmax, ymax]\n",
        "            boxes.append(coors)\n",
        "        \n",
        "        # extract image dimensions\n",
        "        width = int(root.find('.//size/width').text)\n",
        "        height = int(root.find('.//size/height').text)\n",
        "        return boxes, width, height# load the masks for an image\n",
        "\n",
        "    \n",
        "    def load_mask(self, image_id):\n",
        "      \"\"\"\n",
        "      Generate instance masks for an image.\n",
        "       Returns:\n",
        "        masks: A bool array of shape [height, width, instance count] with\n",
        "            one mask per instance.\n",
        "        class_ids: a 1D array of class IDs of the instance masks.\n",
        "      \"\"\"\n",
        "\n",
        "      # get details of image\n",
        "      info = self.image_info[image_id]\n",
        "      \n",
        "      # define anntation  file location\n",
        "      path = info['annotation']\n",
        "      \n",
        "      # load XML\n",
        "      boxes, w, h = self.extract_boxes(path)\n",
        "      \n",
        "      # create one array for all masks, each on a different channel\n",
        "      masks = zeros([h, w, len(boxes)], dtype='uint8')\n",
        "      \n",
        "      # create masks\n",
        "      class_ids = list()\n",
        "      for i in range(len(boxes)):\n",
        "          box = boxes[i]\n",
        "          row_s, row_e = box[1], box[3]\n",
        "          col_s, col_e = box[0], box[2]\n",
        "          masks[row_s:row_e, col_s:col_e, i] = 1\n",
        "          class_ids.append(self.class_names.index('wally'))\n",
        "      return masks, asarray(class_ids, dtype='int32')# load an image reference\n",
        "     \n",
        "\n",
        "    def image_reference(self, image_id):\n",
        "      \"\"\"\n",
        "      Return the path of the image.\n",
        "      \"\"\"\n",
        "      \n",
        "      info = self.image_info[image_id]\n",
        "      print(info)\n",
        "      return info['path']"
      ],
      "execution_count": 0,
      "outputs": []
    },
    {
      "cell_type": "code",
      "metadata": {
        "id": "6AXTIzC8G3C9",
        "colab_type": "code",
        "outputId": "dbabf7f5-5a49-4bce-e9d9-a901646bc0c7",
        "colab": {
          "base_uri": "https://localhost:8080/",
          "height": 34
        }
      },
      "source": [
        "os.chdir('/content/dlv_FindWally/data/data')\n",
        "os.listdir()"
      ],
      "execution_count": 16,
      "outputs": [
        {
          "output_type": "execute_result",
          "data": {
            "text/plain": [
              "['validation', 'annotations', 'train', 'dlv_FindWally']"
            ]
          },
          "metadata": {
            "tags": []
          },
          "execution_count": 16
        }
      ]
    },
    {
      "cell_type": "markdown",
      "metadata": {
        "id": "goOjwTeYwcKB",
        "colab_type": "text"
      },
      "source": [
        "### Step 6: Prepare the train and validation set"
      ]
    },
    {
      "cell_type": "code",
      "metadata": {
        "id": "dHY-nEGgwik3",
        "colab_type": "code",
        "outputId": "e9641d8c-c9c4-4df3-db84-bc24c060aa86",
        "colab": {
          "base_uri": "https://localhost:8080/",
          "height": 51
        }
      },
      "source": [
        "train_set = WallyDataset()\n",
        "train_set.load_dataset(path_data, is_train=True)\n",
        "train_set.prepare()\n",
        "print(f\"Number of train images: {len(train_set.image_ids)}\")"
      ],
      "execution_count": 17,
      "outputs": [
        {
          "output_type": "stream",
          "text": [
            "/content/dlv_FindWally/data/data/train\n",
            "Number of train images: 22\n"
          ],
          "name": "stdout"
        }
      ]
    },
    {
      "cell_type": "code",
      "metadata": {
        "id": "yObdlEwSQ7n_",
        "colab_type": "code",
        "outputId": "4ee95c05-35ce-43bb-e88b-12a99cba9dd0",
        "colab": {
          "base_uri": "https://localhost:8080/",
          "height": 51
        }
      },
      "source": [
        "validation_set = WallyDataset()\n",
        "validation_set.load_dataset(path_data, is_train=False)\n",
        "validation_set.prepare()\n",
        "print(f\"Number of validation images: {len(validation_set.image_ids)}\")"
      ],
      "execution_count": 18,
      "outputs": [
        {
          "output_type": "stream",
          "text": [
            "/content/dlv_FindWally/data/data/validation\n",
            "Number of validation images: 0\n"
          ],
          "name": "stdout"
        }
      ]
    },
    {
      "cell_type": "markdown",
      "metadata": {
        "id": "aFFXX7uDGJpi",
        "colab_type": "text"
      },
      "source": [
        "### Step 7:Initialize Mask R-CNN model for “training” using the Config instance that we created"
      ]
    },
    {
      "cell_type": "code",
      "metadata": {
        "id": "CrrFb8ID5pWg",
        "colab_type": "code",
        "colab": {
          "base_uri": "https://localhost:8080/",
          "height": 34
        },
        "outputId": "a28e6c26-5a6c-4f5a-e401-1fd0b023a947"
      },
      "source": [
        "print(tf.__version__)"
      ],
      "execution_count": 24,
      "outputs": [
        {
          "output_type": "stream",
          "text": [
            "1.15.2\n"
          ],
          "name": "stdout"
        }
      ]
    },
    {
      "cell_type": "code",
      "metadata": {
        "id": "KbEbZUSS8dNU",
        "colab_type": "code",
        "colab": {
          "base_uri": "https://localhost:8080/",
          "height": 51
        },
        "outputId": "a85fe5f4-6cba-43ea-f883-6b7a1d018f09"
      },
      "source": [
        "import sys\n",
        "print(sys.version)"
      ],
      "execution_count": 25,
      "outputs": [
        {
          "output_type": "stream",
          "text": [
            "3.6.9 (default, Nov  7 2019, 10:44:02) \n",
            "[GCC 8.3.0]\n"
          ],
          "name": "stdout"
        }
      ]
    },
    {
      "cell_type": "code",
      "metadata": {
        "id": "FGWdKk8aGKOP",
        "colab_type": "code",
        "outputId": "5341abf0-ed88-48fd-902b-4b78cdaafbdc",
        "colab": {
          "base_uri": "https://localhost:8080/",
          "height": 374
        }
      },
      "source": [
        "# obviously uses tensorflow v1.x\n",
        "print(\"Loading Mask R-CNN model...\")\n",
        "model = modellib.MaskRCNN(mode=\"training\", config=config, model_dir='./')\n",
        "\n",
        "#Probably the problem are the versions. See requirements in that file: https://github.com/matterport/Mask_RCNN/blob/master/README.md"
      ],
      "execution_count": 19,
      "outputs": [
        {
          "output_type": "stream",
          "text": [
            "Loading Mask R-CNN model...\n",
            "WARNING:tensorflow:From /usr/local/lib/python3.6/dist-packages/keras/backend/tensorflow_backend.py:4070: The name tf.nn.max_pool is deprecated. Please use tf.nn.max_pool2d instead.\n",
            "\n"
          ],
          "name": "stdout"
        },
        {
          "output_type": "error",
          "ename": "OperatorNotAllowedInGraphError",
          "evalue": "ignored",
          "traceback": [
            "\u001b[0;31m---------------------------------------------------------------------------\u001b[0m",
            "\u001b[0;31mOperatorNotAllowedInGraphError\u001b[0m            Traceback (most recent call last)",
            "\u001b[0;32m<ipython-input-19-1ed1ff260563>\u001b[0m in \u001b[0;36m<module>\u001b[0;34m()\u001b[0m\n\u001b[1;32m      1\u001b[0m \u001b[0mprint\u001b[0m\u001b[0;34m(\u001b[0m\u001b[0;34m\"Loading Mask R-CNN model...\"\u001b[0m\u001b[0;34m)\u001b[0m\u001b[0;34m\u001b[0m\u001b[0;34m\u001b[0m\u001b[0m\n\u001b[0;32m----> 2\u001b[0;31m \u001b[0mmodel\u001b[0m \u001b[0;34m=\u001b[0m \u001b[0mmodellib\u001b[0m\u001b[0;34m.\u001b[0m\u001b[0mMaskRCNN\u001b[0m\u001b[0;34m(\u001b[0m\u001b[0mmode\u001b[0m\u001b[0;34m=\u001b[0m\u001b[0;34m\"training\"\u001b[0m\u001b[0;34m,\u001b[0m \u001b[0mconfig\u001b[0m\u001b[0;34m=\u001b[0m\u001b[0mconfig\u001b[0m\u001b[0;34m,\u001b[0m \u001b[0mmodel_dir\u001b[0m\u001b[0;34m=\u001b[0m\u001b[0;34m'./'\u001b[0m\u001b[0;34m)\u001b[0m\u001b[0;34m\u001b[0m\u001b[0;34m\u001b[0m\u001b[0m\n\u001b[0m",
            "\u001b[0;32m/usr/local/lib/python3.6/dist-packages/mask_rcnn-2.1-py3.6.egg/mrcnn/model.py\u001b[0m in \u001b[0;36m__init__\u001b[0;34m(self, mode, config, model_dir)\u001b[0m\n\u001b[1;32m   1835\u001b[0m         \u001b[0mself\u001b[0m\u001b[0;34m.\u001b[0m\u001b[0mmodel_dir\u001b[0m \u001b[0;34m=\u001b[0m \u001b[0mmodel_dir\u001b[0m\u001b[0;34m\u001b[0m\u001b[0;34m\u001b[0m\u001b[0m\n\u001b[1;32m   1836\u001b[0m         \u001b[0mself\u001b[0m\u001b[0;34m.\u001b[0m\u001b[0mset_log_dir\u001b[0m\u001b[0;34m(\u001b[0m\u001b[0;34m)\u001b[0m\u001b[0;34m\u001b[0m\u001b[0;34m\u001b[0m\u001b[0m\n\u001b[0;32m-> 1837\u001b[0;31m         \u001b[0mself\u001b[0m\u001b[0;34m.\u001b[0m\u001b[0mkeras_model\u001b[0m \u001b[0;34m=\u001b[0m \u001b[0mself\u001b[0m\u001b[0;34m.\u001b[0m\u001b[0mbuild\u001b[0m\u001b[0;34m(\u001b[0m\u001b[0mmode\u001b[0m\u001b[0;34m=\u001b[0m\u001b[0mmode\u001b[0m\u001b[0;34m,\u001b[0m \u001b[0mconfig\u001b[0m\u001b[0;34m=\u001b[0m\u001b[0mconfig\u001b[0m\u001b[0;34m)\u001b[0m\u001b[0;34m\u001b[0m\u001b[0;34m\u001b[0m\u001b[0m\n\u001b[0m\u001b[1;32m   1838\u001b[0m \u001b[0;34m\u001b[0m\u001b[0m\n\u001b[1;32m   1839\u001b[0m     \u001b[0;32mdef\u001b[0m \u001b[0mbuild\u001b[0m\u001b[0;34m(\u001b[0m\u001b[0mself\u001b[0m\u001b[0;34m,\u001b[0m \u001b[0mmode\u001b[0m\u001b[0;34m,\u001b[0m \u001b[0mconfig\u001b[0m\u001b[0;34m)\u001b[0m\u001b[0;34m:\u001b[0m\u001b[0;34m\u001b[0m\u001b[0;34m\u001b[0m\u001b[0m\n",
            "\u001b[0;32m/usr/local/lib/python3.6/dist-packages/mask_rcnn-2.1-py3.6.egg/mrcnn/model.py\u001b[0m in \u001b[0;36mbuild\u001b[0;34m(self, mode, config)\u001b[0m\n\u001b[1;32m   1988\u001b[0m             \u001b[0mrois\u001b[0m\u001b[0;34m,\u001b[0m \u001b[0mtarget_class_ids\u001b[0m\u001b[0;34m,\u001b[0m \u001b[0mtarget_bbox\u001b[0m\u001b[0;34m,\u001b[0m \u001b[0mtarget_mask\u001b[0m \u001b[0;34m=\u001b[0m\u001b[0;31m\\\u001b[0m\u001b[0;34m\u001b[0m\u001b[0;34m\u001b[0m\u001b[0m\n\u001b[1;32m   1989\u001b[0m                 DetectionTargetLayer(config, name=\"proposal_targets\")([\n\u001b[0;32m-> 1990\u001b[0;31m                     target_rois, input_gt_class_ids, gt_boxes, input_gt_masks])\n\u001b[0m\u001b[1;32m   1991\u001b[0m \u001b[0;34m\u001b[0m\u001b[0m\n\u001b[1;32m   1992\u001b[0m             \u001b[0;31m# Network Heads\u001b[0m\u001b[0;34m\u001b[0m\u001b[0;34m\u001b[0m\u001b[0;34m\u001b[0m\u001b[0m\n",
            "\u001b[0;32m/usr/local/lib/python3.6/dist-packages/keras/engine/base_layer.py\u001b[0m in \u001b[0;36m__call__\u001b[0;34m(self, inputs, **kwargs)\u001b[0m\n\u001b[1;32m    487\u001b[0m             \u001b[0;31m# Actually call the layer,\u001b[0m\u001b[0;34m\u001b[0m\u001b[0;34m\u001b[0m\u001b[0;34m\u001b[0m\u001b[0m\n\u001b[1;32m    488\u001b[0m             \u001b[0;31m# collecting output(s), mask(s), and shape(s).\u001b[0m\u001b[0;34m\u001b[0m\u001b[0;34m\u001b[0m\u001b[0;34m\u001b[0m\u001b[0m\n\u001b[0;32m--> 489\u001b[0;31m             \u001b[0moutput\u001b[0m \u001b[0;34m=\u001b[0m \u001b[0mself\u001b[0m\u001b[0;34m.\u001b[0m\u001b[0mcall\u001b[0m\u001b[0;34m(\u001b[0m\u001b[0minputs\u001b[0m\u001b[0;34m,\u001b[0m \u001b[0;34m**\u001b[0m\u001b[0mkwargs\u001b[0m\u001b[0;34m)\u001b[0m\u001b[0;34m\u001b[0m\u001b[0;34m\u001b[0m\u001b[0m\n\u001b[0m\u001b[1;32m    490\u001b[0m             \u001b[0moutput_mask\u001b[0m \u001b[0;34m=\u001b[0m \u001b[0mself\u001b[0m\u001b[0;34m.\u001b[0m\u001b[0mcompute_mask\u001b[0m\u001b[0;34m(\u001b[0m\u001b[0minputs\u001b[0m\u001b[0;34m,\u001b[0m \u001b[0mprevious_mask\u001b[0m\u001b[0;34m)\u001b[0m\u001b[0;34m\u001b[0m\u001b[0;34m\u001b[0m\u001b[0m\n\u001b[1;32m    491\u001b[0m \u001b[0;34m\u001b[0m\u001b[0m\n",
            "\u001b[0;32m/usr/local/lib/python3.6/dist-packages/mask_rcnn-2.1-py3.6.egg/mrcnn/model.py\u001b[0m in \u001b[0;36mcall\u001b[0;34m(self, inputs)\u001b[0m\n\u001b[1;32m    662\u001b[0m             lambda w, x, y, z: detection_targets_graph(\n\u001b[1;32m    663\u001b[0m                 w, x, y, z, self.config),\n\u001b[0;32m--> 664\u001b[0;31m             self.config.IMAGES_PER_GPU, names=names)\n\u001b[0m\u001b[1;32m    665\u001b[0m         \u001b[0;32mreturn\u001b[0m \u001b[0moutputs\u001b[0m\u001b[0;34m\u001b[0m\u001b[0;34m\u001b[0m\u001b[0m\n\u001b[1;32m    666\u001b[0m \u001b[0;34m\u001b[0m\u001b[0m\n",
            "\u001b[0;32m/usr/local/lib/python3.6/dist-packages/mask_rcnn-2.1-py3.6.egg/mrcnn/utils.py\u001b[0m in \u001b[0;36mbatch_slice\u001b[0;34m(inputs, graph_fn, batch_size, names)\u001b[0m\n\u001b[1;32m    818\u001b[0m     \u001b[0;32mfor\u001b[0m \u001b[0mi\u001b[0m \u001b[0;32min\u001b[0m \u001b[0mrange\u001b[0m\u001b[0;34m(\u001b[0m\u001b[0mbatch_size\u001b[0m\u001b[0;34m)\u001b[0m\u001b[0;34m:\u001b[0m\u001b[0;34m\u001b[0m\u001b[0;34m\u001b[0m\u001b[0m\n\u001b[1;32m    819\u001b[0m         \u001b[0minputs_slice\u001b[0m \u001b[0;34m=\u001b[0m \u001b[0;34m[\u001b[0m\u001b[0mx\u001b[0m\u001b[0;34m[\u001b[0m\u001b[0mi\u001b[0m\u001b[0;34m]\u001b[0m \u001b[0;32mfor\u001b[0m \u001b[0mx\u001b[0m \u001b[0;32min\u001b[0m \u001b[0minputs\u001b[0m\u001b[0;34m]\u001b[0m\u001b[0;34m\u001b[0m\u001b[0;34m\u001b[0m\u001b[0m\n\u001b[0;32m--> 820\u001b[0;31m         \u001b[0moutput_slice\u001b[0m \u001b[0;34m=\u001b[0m \u001b[0mgraph_fn\u001b[0m\u001b[0;34m(\u001b[0m\u001b[0;34m*\u001b[0m\u001b[0minputs_slice\u001b[0m\u001b[0;34m)\u001b[0m\u001b[0;34m\u001b[0m\u001b[0;34m\u001b[0m\u001b[0m\n\u001b[0m\u001b[1;32m    821\u001b[0m         \u001b[0;32mif\u001b[0m \u001b[0;32mnot\u001b[0m \u001b[0misinstance\u001b[0m\u001b[0;34m(\u001b[0m\u001b[0moutput_slice\u001b[0m\u001b[0;34m,\u001b[0m \u001b[0;34m(\u001b[0m\u001b[0mtuple\u001b[0m\u001b[0;34m,\u001b[0m \u001b[0mlist\u001b[0m\u001b[0;34m)\u001b[0m\u001b[0;34m)\u001b[0m\u001b[0;34m:\u001b[0m\u001b[0;34m\u001b[0m\u001b[0;34m\u001b[0m\u001b[0m\n\u001b[1;32m    822\u001b[0m             \u001b[0moutput_slice\u001b[0m \u001b[0;34m=\u001b[0m \u001b[0;34m[\u001b[0m\u001b[0moutput_slice\u001b[0m\u001b[0;34m]\u001b[0m\u001b[0;34m\u001b[0m\u001b[0;34m\u001b[0m\u001b[0m\n",
            "\u001b[0;32m/usr/local/lib/python3.6/dist-packages/mask_rcnn-2.1-py3.6.egg/mrcnn/model.py\u001b[0m in \u001b[0;36m<lambda>\u001b[0;34m(w, x, y, z)\u001b[0m\n\u001b[1;32m    661\u001b[0m             \u001b[0;34m[\u001b[0m\u001b[0mproposals\u001b[0m\u001b[0;34m,\u001b[0m \u001b[0mgt_class_ids\u001b[0m\u001b[0;34m,\u001b[0m \u001b[0mgt_boxes\u001b[0m\u001b[0;34m,\u001b[0m \u001b[0mgt_masks\u001b[0m\u001b[0;34m]\u001b[0m\u001b[0;34m,\u001b[0m\u001b[0;34m\u001b[0m\u001b[0;34m\u001b[0m\u001b[0m\n\u001b[1;32m    662\u001b[0m             lambda w, x, y, z: detection_targets_graph(\n\u001b[0;32m--> 663\u001b[0;31m                 w, x, y, z, self.config),\n\u001b[0m\u001b[1;32m    664\u001b[0m             self.config.IMAGES_PER_GPU, names=names)\n\u001b[1;32m    665\u001b[0m         \u001b[0;32mreturn\u001b[0m \u001b[0moutputs\u001b[0m\u001b[0;34m\u001b[0m\u001b[0;34m\u001b[0m\u001b[0m\n",
            "\u001b[0;32m/usr/local/lib/python3.6/dist-packages/mask_rcnn-2.1-py3.6.egg/mrcnn/model.py\u001b[0m in \u001b[0;36mdetection_targets_graph\u001b[0;34m(proposals, gt_class_ids, gt_boxes, gt_masks, config)\u001b[0m\n\u001b[1;32m    508\u001b[0m     asserts = [\n\u001b[1;32m    509\u001b[0m         tf.Assert(tf.greater(tf.shape(proposals)[0], 0), [proposals],\n\u001b[0;32m--> 510\u001b[0;31m                   name=\"roi_assertion\"),\n\u001b[0m\u001b[1;32m    511\u001b[0m     ]\n\u001b[1;32m    512\u001b[0m     \u001b[0;32mwith\u001b[0m \u001b[0mtf\u001b[0m\u001b[0;34m.\u001b[0m\u001b[0mcontrol_dependencies\u001b[0m\u001b[0;34m(\u001b[0m\u001b[0masserts\u001b[0m\u001b[0;34m)\u001b[0m\u001b[0;34m:\u001b[0m\u001b[0;34m\u001b[0m\u001b[0;34m\u001b[0m\u001b[0m\n",
            "\u001b[0;32m/tensorflow-1.15.2/python3.6/tensorflow_core/python/util/tf_should_use.py\u001b[0m in \u001b[0;36mwrapped\u001b[0;34m(*args, **kwargs)\u001b[0m\n\u001b[1;32m    196\u001b[0m   \"\"\"\n\u001b[1;32m    197\u001b[0m   \u001b[0;32mdef\u001b[0m \u001b[0mwrapped\u001b[0m\u001b[0;34m(\u001b[0m\u001b[0;34m*\u001b[0m\u001b[0margs\u001b[0m\u001b[0;34m,\u001b[0m \u001b[0;34m**\u001b[0m\u001b[0mkwargs\u001b[0m\u001b[0;34m)\u001b[0m\u001b[0;34m:\u001b[0m\u001b[0;34m\u001b[0m\u001b[0;34m\u001b[0m\u001b[0m\n\u001b[0;32m--> 198\u001b[0;31m     \u001b[0;32mreturn\u001b[0m \u001b[0m_add_should_use_warning\u001b[0m\u001b[0;34m(\u001b[0m\u001b[0mfn\u001b[0m\u001b[0;34m(\u001b[0m\u001b[0;34m*\u001b[0m\u001b[0margs\u001b[0m\u001b[0;34m,\u001b[0m \u001b[0;34m**\u001b[0m\u001b[0mkwargs\u001b[0m\u001b[0;34m)\u001b[0m\u001b[0;34m)\u001b[0m\u001b[0;34m\u001b[0m\u001b[0;34m\u001b[0m\u001b[0m\n\u001b[0m\u001b[1;32m    199\u001b[0m   return tf_decorator.make_decorator(\n\u001b[1;32m    200\u001b[0m       \u001b[0mfn\u001b[0m\u001b[0;34m,\u001b[0m \u001b[0mwrapped\u001b[0m\u001b[0;34m,\u001b[0m \u001b[0;34m'should_use_result'\u001b[0m\u001b[0;34m,\u001b[0m\u001b[0;34m\u001b[0m\u001b[0;34m\u001b[0m\u001b[0m\n",
            "\u001b[0;32m/tensorflow-1.15.2/python3.6/tensorflow_core/python/ops/control_flow_ops.py\u001b[0m in \u001b[0;36mAssert\u001b[0;34m(condition, data, summarize, name)\u001b[0m\n\u001b[1;32m    147\u001b[0m   \"\"\"\n\u001b[1;32m    148\u001b[0m   \u001b[0;32mif\u001b[0m \u001b[0mcontext\u001b[0m\u001b[0;34m.\u001b[0m\u001b[0mexecuting_eagerly\u001b[0m\u001b[0;34m(\u001b[0m\u001b[0;34m)\u001b[0m\u001b[0;34m:\u001b[0m\u001b[0;34m\u001b[0m\u001b[0;34m\u001b[0m\u001b[0m\n\u001b[0;32m--> 149\u001b[0;31m     \u001b[0;32mif\u001b[0m \u001b[0;32mnot\u001b[0m \u001b[0mcondition\u001b[0m\u001b[0;34m:\u001b[0m\u001b[0;34m\u001b[0m\u001b[0;34m\u001b[0m\u001b[0m\n\u001b[0m\u001b[1;32m    150\u001b[0m       \u001b[0mxs\u001b[0m \u001b[0;34m=\u001b[0m \u001b[0mops\u001b[0m\u001b[0;34m.\u001b[0m\u001b[0mconvert_n_to_tensor\u001b[0m\u001b[0;34m(\u001b[0m\u001b[0mdata\u001b[0m\u001b[0;34m)\u001b[0m\u001b[0;34m\u001b[0m\u001b[0;34m\u001b[0m\u001b[0m\n\u001b[1;32m    151\u001b[0m       \u001b[0mdata_str\u001b[0m \u001b[0;34m=\u001b[0m \u001b[0;34m[\u001b[0m\u001b[0m_summarize_eager\u001b[0m\u001b[0;34m(\u001b[0m\u001b[0mx\u001b[0m\u001b[0;34m,\u001b[0m \u001b[0msummarize\u001b[0m\u001b[0;34m)\u001b[0m \u001b[0;32mfor\u001b[0m \u001b[0mx\u001b[0m \u001b[0;32min\u001b[0m \u001b[0mxs\u001b[0m\u001b[0;34m]\u001b[0m\u001b[0;34m\u001b[0m\u001b[0;34m\u001b[0m\u001b[0m\n",
            "\u001b[0;32m/tensorflow-1.15.2/python3.6/tensorflow_core/python/framework/ops.py\u001b[0m in \u001b[0;36m__bool__\u001b[0;34m(self)\u001b[0m\n\u001b[1;32m    763\u001b[0m       \u001b[0;31m`\u001b[0m\u001b[0mTypeError\u001b[0m\u001b[0;31m`\u001b[0m\u001b[0;34m.\u001b[0m\u001b[0;34m\u001b[0m\u001b[0;34m\u001b[0m\u001b[0m\n\u001b[1;32m    764\u001b[0m     \"\"\"\n\u001b[0;32m--> 765\u001b[0;31m     \u001b[0mself\u001b[0m\u001b[0;34m.\u001b[0m\u001b[0m_disallow_bool_casting\u001b[0m\u001b[0;34m(\u001b[0m\u001b[0;34m)\u001b[0m\u001b[0;34m\u001b[0m\u001b[0;34m\u001b[0m\u001b[0m\n\u001b[0m\u001b[1;32m    766\u001b[0m \u001b[0;34m\u001b[0m\u001b[0m\n\u001b[1;32m    767\u001b[0m   \u001b[0;32mdef\u001b[0m \u001b[0m__nonzero__\u001b[0m\u001b[0;34m(\u001b[0m\u001b[0mself\u001b[0m\u001b[0;34m)\u001b[0m\u001b[0;34m:\u001b[0m\u001b[0;34m\u001b[0m\u001b[0;34m\u001b[0m\u001b[0m\n",
            "\u001b[0;32m/tensorflow-1.15.2/python3.6/tensorflow_core/python/framework/ops.py\u001b[0m in \u001b[0;36m_disallow_bool_casting\u001b[0;34m(self)\u001b[0m\n\u001b[1;32m    532\u001b[0m     \u001b[0;32melse\u001b[0m\u001b[0;34m:\u001b[0m\u001b[0;34m\u001b[0m\u001b[0;34m\u001b[0m\u001b[0m\n\u001b[1;32m    533\u001b[0m       \u001b[0;31m# Default: V1-style Graph execution.\u001b[0m\u001b[0;34m\u001b[0m\u001b[0;34m\u001b[0m\u001b[0;34m\u001b[0m\u001b[0m\n\u001b[0;32m--> 534\u001b[0;31m       \u001b[0mself\u001b[0m\u001b[0;34m.\u001b[0m\u001b[0m_disallow_in_graph_mode\u001b[0m\u001b[0;34m(\u001b[0m\u001b[0;34m\"using a `tf.Tensor` as a Python `bool`\"\u001b[0m\u001b[0;34m)\u001b[0m\u001b[0;34m\u001b[0m\u001b[0;34m\u001b[0m\u001b[0m\n\u001b[0m\u001b[1;32m    535\u001b[0m \u001b[0;34m\u001b[0m\u001b[0m\n\u001b[1;32m    536\u001b[0m   \u001b[0;32mdef\u001b[0m \u001b[0m_disallow_iteration\u001b[0m\u001b[0;34m(\u001b[0m\u001b[0mself\u001b[0m\u001b[0;34m)\u001b[0m\u001b[0;34m:\u001b[0m\u001b[0;34m\u001b[0m\u001b[0;34m\u001b[0m\u001b[0m\n",
            "\u001b[0;32m/tensorflow-1.15.2/python3.6/tensorflow_core/python/framework/ops.py\u001b[0m in \u001b[0;36m_disallow_in_graph_mode\u001b[0;34m(self, task)\u001b[0m\n\u001b[1;32m    521\u001b[0m     raise errors.OperatorNotAllowedInGraphError(\n\u001b[1;32m    522\u001b[0m         \u001b[0;34m\"{} is not allowed in Graph execution. Use Eager execution or decorate\"\u001b[0m\u001b[0;34m\u001b[0m\u001b[0;34m\u001b[0m\u001b[0m\n\u001b[0;32m--> 523\u001b[0;31m         \" this function with @tf.function.\".format(task))\n\u001b[0m\u001b[1;32m    524\u001b[0m \u001b[0;34m\u001b[0m\u001b[0m\n\u001b[1;32m    525\u001b[0m   \u001b[0;32mdef\u001b[0m \u001b[0m_disallow_bool_casting\u001b[0m\u001b[0;34m(\u001b[0m\u001b[0mself\u001b[0m\u001b[0;34m)\u001b[0m\u001b[0;34m:\u001b[0m\u001b[0;34m\u001b[0m\u001b[0;34m\u001b[0m\u001b[0m\n",
            "\u001b[0;31mOperatorNotAllowedInGraphError\u001b[0m: using a `tf.Tensor` as a Python `bool` is not allowed in Graph execution. Use Eager execution or decorate this function with @tf.function."
          ]
        }
      ]
    },
    {
      "cell_type": "markdown",
      "metadata": {
        "id": "pVHyhELRLlDE",
        "colab_type": "text"
      },
      "source": [
        "## VGG16"
      ]
    },
    {
      "cell_type": "markdown",
      "metadata": {
        "id": "X69Mw8tFMixq",
        "colab_type": "text"
      },
      "source": [
        "### Load and compile VGG16"
      ]
    },
    {
      "cell_type": "code",
      "metadata": {
        "id": "KiR6QD1JLjJM",
        "colab_type": "code",
        "colab": {}
      },
      "source": [
        "# General imports\n",
        "import sys\n",
        "import numpy as np\n",
        "import matplotlib.pyplot as plt\n",
        "from sklearn.metrics import confusion_matrix\n",
        "import tensorflow as tf\n",
        "\n",
        "# Shortcuts to keras if (however from tensorflow)\n",
        "from tensorflow.keras import applications\n",
        "from tensorflow.keras import optimizers\n",
        "from tensorflow.keras.preprocessing.image import ImageDataGenerator\n",
        "from tensorflow.keras.models import Sequential\n",
        "from tensorflow.keras.layers import Conv2D, MaxPool2D\n",
        "from tensorflow.keras.layers import Activation, Dropout, Flatten, Dense\n",
        "from tensorflow.keras.callbacks import TensorBoard \n",
        "\n",
        "# Shortcut for displaying images\n",
        "def plot_img(img):\n",
        "    plt.imshow(img, cmap='gray')\n",
        "    plt.axis(\"off\")\n",
        "    plt.show()\n",
        "    \n",
        "# The target image size can be fixed here (quadratic)\n",
        "# The ImageDataGenerator() automatically scales the images accordingly (aspect ratio is changed)\n",
        "image_size = 150"
      ],
      "execution_count": 0,
      "outputs": []
    },
    {
      "cell_type": "code",
      "metadata": {
        "id": "mNStQk_ELP9n",
        "colab_type": "code",
        "colab": {}
      },
      "source": [
        "vgg16 = applications.VGG16(include_top=False, weights='imagenet',\n",
        "                           input_shape=(image_size,image_size,3))"
      ],
      "execution_count": 0,
      "outputs": []
    },
    {
      "cell_type": "markdown",
      "metadata": {
        "id": "phEORBXBL6es",
        "colab_type": "text"
      },
      "source": [
        "You pass three arguments to the constructor:\n",
        "\n",
        "- `weights` specifies the weight checkpoint from which to initialize the model.\n",
        "\n",
        "- `include_top` refers to including (or not) the densely connected classifier on top of the network. By default, this densely connected classifier corresponds to the 1000 classes from ImageNet. Because we intend to use our own densely connected classifier you don't need to include it.\n",
        "\n",
        "- `input_shape` is the shape of the image tensors that we will feed to the network. This argument is purely optional: if we don't pass it, the network will be able to process inputs of any size."
      ]
    },
    {
      "cell_type": "code",
      "metadata": {
        "id": "zpJKe4FAMP3O",
        "colab_type": "code",
        "colab": {}
      },
      "source": [
        "# predict_generator requires compilation\n",
        "vgg16.compile(optimizer='adam',\n",
        "              loss='categorical_crossentropy',\n",
        "              metrics=['accuracy'])\n",
        "\n",
        "vgg16.summary()"
      ],
      "execution_count": 0,
      "outputs": []
    },
    {
      "cell_type": "markdown",
      "metadata": {
        "id": "LssUiEgzM_17",
        "colab_type": "text"
      },
      "source": [
        "### Train with Wally"
      ]
    },
    {
      "cell_type": "code",
      "metadata": {
        "id": "NvldR5QLNGQk",
        "colab_type": "code",
        "colab": {}
      },
      "source": [
        "# These are the class names; this defines the ordering of the classes\n",
        "class_names = [\"wally\"]\n",
        "\n",
        "# No augmentation \n",
        "datagen = ImageDataGenerator(rescale=1./255)\n",
        "\n",
        "batch_size = 20\n",
        "num_train_images = 480\n",
        "num_valid_images = 80\n",
        "num_classes = 8\n",
        "\n",
        "generator = datagen.flow_from_directory(\n",
        "        path_train,\n",
        "        target_size=(image_size, image_size),\n",
        "        batch_size=batch_size,\n",
        "        classes=class_names,\n",
        "        # this means our generator will only yield batches of \n",
        "        # data, no labels\n",
        "        class_mode=None,  \n",
        "        # our data will be in order\n",
        "        shuffle=False)  \n",
        "\n",
        "# the predict_generator method returns the CNN activation maps \n",
        "# of the last layer\n",
        "bottleneck_features_train = vgg16.predict_generator(generator, \n",
        "                                                    num_train_images // batch_size)\n",
        "\n",
        "print(\"Shape of last layer feature map of training dataset:\", bottleneck_features_train.shape)\n",
        "\n",
        "# save the output as a Numpy array\n",
        "np.save('./models/bottleneck_features_train.npy', \n",
        "        bottleneck_features_train)\n",
        "\n",
        "generator = datagen.flow_from_directory(\n",
        "        './validation',\n",
        "        target_size=(image_size, image_size),\n",
        "        batch_size=batch_size,\n",
        "        classes=class_names,\n",
        "        class_mode=None,\n",
        "        shuffle=False)\n",
        "\n",
        "bottleneck_features_validation = vgg16.predict_generator(generator, \n",
        "                                                         num_valid_images // batch_size)\n",
        "\n",
        "np.save('./models/bottleneck_features_validation.npy', bottleneck_features_validation)\n",
        "\n",
        "print(\"Shape of last layer feature map of validation dataset:\", bottleneck_features_validation.shape"
      ],
      "execution_count": 0,
      "outputs": []
    },
    {
      "cell_type": "markdown",
      "metadata": {
        "id": "uJGTkZkufbc2",
        "colab_type": "text"
      },
      "source": [
        "## Testing"
      ]
    },
    {
      "cell_type": "code",
      "metadata": {
        "id": "4eihnZUrfjSf",
        "colab_type": "code",
        "colab": {}
      },
      "source": [
        ""
      ],
      "execution_count": 0,
      "outputs": []
    }
  ]
}